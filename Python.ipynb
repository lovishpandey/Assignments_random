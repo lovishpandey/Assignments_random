{
 "cells": [
  {
   "cell_type": "code",
   "execution_count": 3,
   "metadata": {},
   "outputs": [],
   "source": [
    "##program which will find all such numbers which are divisible by 7 but are not a multiple\n",
    "#of 5\n",
    "list=[]\n",
    "for i in range(2000,3201):\n",
    "        j=i%10 ## applying divisibility test for 7\n",
    "        k=i//10\n",
    "        t=k- (j*2)%10\n",
    "        if (t%7 == 0):\n",
    "            list.append(i)  "
   ]
  },
  {
   "cell_type": "code",
   "execution_count": 75,
   "metadata": {},
   "outputs": [],
   "source": [
    "import re"
   ]
  },
  {
   "cell_type": "code",
   "execution_count": 4,
   "metadata": {},
   "outputs": [
    {
     "name": "stdout",
     "output_type": "stream",
     "text": [
      "[2002, 2007, 2023, 2028, 2030, 2035, 2044, 2049, 2051, 2056, 2072, 2077, 2093, 2098, 2100, 2105, 2114, 2119, 2121, 2126, 2142, 2147, 2163, 2168, 2170, 2175, 2184, 2189, 2191, 2196, 2212, 2217, 2233, 2238, 2240, 2245, 2254, 2259, 2261, 2266, 2282, 2287, 2303, 2308, 2310, 2315, 2324, 2329, 2331, 2336, 2352, 2357, 2373, 2378, 2380, 2385, 2394, 2399, 2401, 2406, 2422, 2427, 2443, 2448, 2450, 2455, 2464, 2469, 2471, 2476, 2492, 2497, 2513, 2518, 2520, 2525, 2534, 2539, 2541, 2546, 2562, 2567, 2583, 2588, 2590, 2595, 2604, 2609, 2611, 2616, 2632, 2637, 2653, 2658, 2660, 2665, 2674, 2679, 2681, 2686, 2702, 2707, 2723, 2728, 2730, 2735, 2744, 2749, 2751, 2756, 2772, 2777, 2793, 2798, 2800, 2805, 2814, 2819, 2821, 2826, 2842, 2847, 2863, 2868, 2870, 2875, 2884, 2889, 2891, 2896, 2912, 2917, 2933, 2938, 2940, 2945, 2954, 2959, 2961, 2966, 2982, 2987, 3003, 3008, 3010, 3015, 3024, 3029, 3031, 3036, 3052, 3057, 3073, 3078, 3080, 3085, 3094, 3099, 3101, 3106, 3122, 3127, 3143, 3148, 3150, 3155, 3164, 3169, 3171, 3176, 3192, 3197]\n"
     ]
    }
   ],
   "source": [
    "print(list)"
   ]
  },
  {
   "cell_type": "code",
   "execution_count": null,
   "metadata": {},
   "outputs": [],
   "source": [
    "#Python program to accept the user's first and last name and then getting them printed in\n",
    "#the the reverse order with a space between first name and last name."
   ]
  },
  {
   "cell_type": "code",
   "execution_count": 34,
   "metadata": {},
   "outputs": [
    {
     "name": "stdout",
     "output_type": "stream",
     "text": [
      "enter first name Lovish\n",
      "enter last name Pandey\n"
     ]
    }
   ],
   "source": [
    "First=input(\"enter first name \")\n",
    "last=input(\"enter last name \")"
   ]
  },
  {
   "cell_type": "code",
   "execution_count": 49,
   "metadata": {},
   "outputs": [
    {
     "name": "stdout",
     "output_type": "stream",
     "text": [
      "hsivoL yednaP\n"
     ]
    }
   ],
   "source": [
    "print(First[::-1]+\" \"+(last[::-1]))"
   ]
  },
  {
   "cell_type": "code",
   "execution_count": null,
   "metadata": {},
   "outputs": [],
   "source": [
    "#a Python program to find the volume of a sphere with diameter 12 cm."
   ]
  },
  {
   "cell_type": "code",
   "execution_count": 37,
   "metadata": {},
   "outputs": [],
   "source": [
    "def vol(d):\n",
    "    v=(4/3)*(22/7)*d/2\n",
    "    return(v)"
   ]
  },
  {
   "cell_type": "code",
   "execution_count": 39,
   "metadata": {},
   "outputs": [
    {
     "data": {
      "text/plain": [
       "50.28571428571428"
      ]
     },
     "execution_count": 39,
     "metadata": {},
     "output_type": "execute_result"
    }
   ],
   "source": [
    "vol(12)"
   ]
  },
  {
   "cell_type": "code",
   "execution_count": null,
   "metadata": {},
   "outputs": [],
   "source": [
    "###a program which accepts a sequence of comma-separated numbers from console and\n",
    "####generate a list."
   ]
  },
  {
   "cell_type": "code",
   "execution_count": 51,
   "metadata": {},
   "outputs": [
    {
     "name": "stdout",
     "output_type": "stream",
     "text": [
      "1,2,3,4\n"
     ]
    }
   ],
   "source": [
    "list=input().split(',')"
   ]
  },
  {
   "cell_type": "code",
   "execution_count": 52,
   "metadata": {},
   "outputs": [
    {
     "name": "stdout",
     "output_type": "stream",
     "text": [
      "['1', '2', '3', '4']\n"
     ]
    }
   ],
   "source": [
    "print(list)"
   ]
  },
  {
   "cell_type": "code",
   "execution_count": null,
   "metadata": {},
   "outputs": [],
   "source": [
    "##accepting string and returning reverse string"
   ]
  },
  {
   "cell_type": "code",
   "execution_count": 53,
   "metadata": {},
   "outputs": [
    {
     "name": "stdout",
     "output_type": "stream",
     "text": [
      "enter the stringIneuron\n"
     ]
    }
   ],
   "source": [
    "string=input(\"enter the string\")"
   ]
  },
  {
   "cell_type": "code",
   "execution_count": 54,
   "metadata": {},
   "outputs": [
    {
     "name": "stdout",
     "output_type": "stream",
     "text": [
      "noruenI\n"
     ]
    }
   ],
   "source": [
    "print(string[::-1])"
   ]
  },
  {
   "cell_type": "code",
   "execution_count": 55,
   "metadata": {},
   "outputs": [],
   "source": [
    "##pattern"
   ]
  },
  {
   "cell_type": "code",
   "execution_count": 64,
   "metadata": {},
   "outputs": [
    {
     "name": "stdout",
     "output_type": "stream",
     "text": [
      "\n",
      "*  \n",
      "*  *  \n",
      "*  *  *  \n",
      "*  *  *  *  \n",
      "*  *  *  *  *  \n",
      "*  *  *  *  \n",
      "*  *  *  \n",
      "*  *  \n",
      "*  \n"
     ]
    }
   ],
   "source": [
    "for i in range(5):\n",
    "    for j in range(i):\n",
    "        print ('* ',end=\" \")\n",
    "    print('')\n",
    "\n",
    "for i in range(5,0,-1):\n",
    "    for j in range(i):\n",
    "        print('* ',end=\" \")\n",
    "    print('')"
   ]
  },
  {
   "cell_type": "code",
   "execution_count": 77,
   "metadata": {},
   "outputs": [
    {
     "name": "stdout",
     "output_type": "stream",
     "text": [
      "WE, THE PEOPLE OF INDIA,\n",
      "\thaving solemnly resolved to constitute India into a SOVEREIGN,! \n",
      "\t\tSOCIALIST, SECULAR, DEMOCRATIC REPUBLIC \n",
      "\t\t and to secure to all its citizens\n"
     ]
    }
   ],
   "source": [
    "print(\"WE, THE PEOPLE OF INDIA,\\n\\thaving solemnly resolved to constitute India into a SOVEREIGN,! \\n\\t\\tSOCIALIST, SECULAR, DEMOCRATIC REPUBLIC \\n\\t\\t and to secure to all its citizens\")"
   ]
  }
 ],
 "metadata": {
  "kernelspec": {
   "display_name": "Python 3",
   "language": "python",
   "name": "python3"
  }
 },
 "nbformat": 4,
 "nbformat_minor": 2
}
